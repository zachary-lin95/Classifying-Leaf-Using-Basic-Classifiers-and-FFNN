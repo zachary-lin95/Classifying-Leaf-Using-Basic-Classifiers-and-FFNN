{
 "cells": [
  {
   "cell_type": "markdown",
   "metadata": {},
   "source": [
    "# Classifying Leaf Using Basic Classifiers and FFNN  \n",
    "  \n",
    "  This project is aimed to build some classifiers to judge the type of leaves. Using three sets of features: a shape contiguous descriptor, an interior texture histogram, and a ﬁne-scale margin histogram. For each feature, a 64-attribute vector is given per leaf sample. We will use some basic classifiers first and compare their performance about this dataset, and then using principal component analysis (PCA) to deduct the features and do the same process again and compare the difference bwtween this two situatiom. At last, we will develop an Feed Forward Neural Network to judge the type.  \n",
    "  \n",
    "  The result shows that NuSVC classifier has the best perfermance in all classifiers. After PCA process, most of classifier's perfermance is lower than before but the accuracy of Gaussian Naive Bayes model has doubled. Our FFNN network also has excellent perfermance for this dataset.\n",
    "\n",
    "## Part A Basic Classifiers:"
   ]
  },
  {
   "cell_type": "markdown",
   "metadata": {},
   "source": [
    "We can now start setting up our classifiers and naively apply them to the dataset as it is. Ideally, one should first look at the data in depth and think how to reduce it or manipulate it to get the most out of the classifiers. However, we will need these results later, to compare how effective the Features Reduction is in each case. To compare performance and efficacy of each technique we will use a K-fold cross validation. This technique randomly splits the training dataset in k subsets. While one subset is kept to test the model, the remaining k-1 sets are used to train the data."
   ]
  },
  {
   "cell_type": "code",
   "execution_count": 1,
   "metadata": {},
   "outputs": [],
   "source": [
    "import numpy as np\n",
    "import pandas as pd\n",
    "import seaborn as sns\n",
    "import matplotlib.pyplot as plt\n",
    "from sklearn.preprocessing import StandardScaler, LabelEncoder\n",
    "from sklearn.naive_bayes import GaussianNB\n",
    "from sklearn.ensemble import ExtraTreesClassifier\n",
    "from sklearn.linear_model import LogisticRegression\n",
    "from sklearn.model_selection import KFold,GridSearchCV\n",
    "\n",
    "def warn(*args, **kwargs): pass\n",
    "import warnings\n",
    "warnings.warn = warn\n",
    "\n",
    "from sklearn.preprocessing import LabelEncoder\n",
    "from sklearn.cross_validation import StratifiedShuffleSplit\n"
   ]
  },
  {
   "cell_type": "code",
   "execution_count": 2,
   "metadata": {},
   "outputs": [],
   "source": [
    "train = pd.read_csv(\"train.csv\")\n",
    "#test = pd.read_csv(\"test.csv\") I won't use test dataset in this project"
   ]
  },
  {
   "cell_type": "code",
   "execution_count": 3,
   "metadata": {},
   "outputs": [],
   "source": [
    "# Swiss army knife function to organize the data\n",
    "    \n",
    "x_train = train.drop(['id', 'species'], axis=1)\n",
    "y_train = train.pop('species')\n",
    "#test = test.drop(['id'], axis=1)\n",
    "\n",
    "#standardize the training values\n",
    "scaler = StandardScaler().fit(x_train)\n",
    "x_train = scaler.transform(x_train)\n",
    "\n"
   ]
  },
  {
   "cell_type": "code",
   "execution_count": 4,
   "metadata": {},
   "outputs": [],
   "source": [
    "kfold = KFold(n_splits=5, shuffle=True, random_state=4)"
   ]
  },
  {
   "cell_type": "code",
   "execution_count": 5,
   "metadata": {},
   "outputs": [
    {
     "name": "stdout",
     "output_type": "stream",
     "text": [
      "==============================\n",
      "KNeighborsClassifier\n",
      "****Results****\n",
      "Accuracy: 96.2626%\n",
      "==============================\n",
      "GaussianNB\n",
      "****Results****\n",
      "Accuracy: 48.6869%\n",
      "==============================\n",
      "DecisionTreeClassifier\n",
      "****Results****\n",
      "Accuracy: 59.5960%\n",
      "==============================\n",
      "RandomForestClassifier\n",
      "****Results****\n",
      "Accuracy: 85.3535%\n",
      "==============================\n",
      "AdaBoostClassifier\n",
      "****Results****\n",
      "Accuracy: 2.4242%\n",
      "==============================\n",
      "GradientBoostingClassifier\n",
      "****Results****\n",
      "Accuracy: 55.0505%\n",
      "==============================\n",
      "LinearDiscriminantAnalysis\n",
      "****Results****\n",
      "Accuracy: 97.1717%\n",
      "==============================\n",
      "QuadraticDiscriminantAnalysis\n",
      "****Results****\n",
      "Accuracy: 2.9293%\n",
      "==============================\n"
     ]
    }
   ],
   "source": [
    "from sklearn.metrics import accuracy_score, log_loss\n",
    "from sklearn.neighbors import KNeighborsClassifier\n",
    "from sklearn.svm import SVC, LinearSVC, NuSVC\n",
    "from sklearn.tree import DecisionTreeClassifier\n",
    "from sklearn.ensemble import RandomForestClassifier, AdaBoostClassifier, GradientBoostingClassifier\n",
    "from sklearn.naive_bayes import GaussianNB\n",
    "from sklearn.discriminant_analysis import LinearDiscriminantAnalysis\n",
    "from sklearn.discriminant_analysis import QuadraticDiscriminantAnalysis\n",
    "from sklearn.linear_model import LogisticRegression\n",
    "\n",
    "log_cols=[\"Classifier\", \"Accuracy\"]\n",
    "log = pd.DataFrame(columns=log_cols)\n",
    "\n",
    "\n",
    "\n",
    "classifiers = [\n",
    "    KNeighborsClassifier(3),\n",
    "    GaussianNB(),\n",
    "    DecisionTreeClassifier(),\n",
    "    RandomForestClassifier(),\n",
    "    AdaBoostClassifier(),\n",
    "    GradientBoostingClassifier(),\n",
    "    LinearDiscriminantAnalysis(),\n",
    "    QuadraticDiscriminantAnalysis()]\n",
    "\n",
    "\n",
    "for clf in classifiers:\n",
    "    clf_validation = [clf.fit(x_train[train], y_train[train]).score(x_train[test], y_train[test]).mean() \\\n",
    "           for train, test in kfold.split(x_train)]\n",
    "    name = clf.__class__.__name__\n",
    "    \n",
    "    print(\"=\"*30)\n",
    "    print(name)\n",
    "    \n",
    "    print('****Results****')\n",
    "    acc = np.mean(clf_validation)\n",
    "    print(\"Accuracy: {:.4%}\".format(acc))\n",
    "    \n",
    "    \n",
    "    log_entry = pd.DataFrame([[name, acc*100]], columns=log_cols)\n",
    "    log = log.append(log_entry)\n",
    "    \n",
    "print(\"=\"*30)"
   ]
  },
  {
   "cell_type": "markdown",
   "metadata": {},
   "source": [
    "The results are very interesting:\n",
    "1. KNN: Since in our dataset, the number of samples for each type of leaves is the same, KNN has a good perfermance.  \n",
    "\n",
    "2. GaussianNB: Naïve Bayes validation result is extremely low. This could be due to the fact that the initial assumption of independent features doesn't hold of this dataset.  \n",
    "3. DecisionTreeClassifier & RandomForestClassifier: RF perfermance better than DecisionTree. Since we have no hyperparameter tuning here, accuracy is not good enough.\n",
    "5. LDA & QDA:LDA only performs well if the decision boundary between classes is in fact linear, as all classes share a common covariance matrix.QDA is trying to create a quadratic boundary for 99 different classes, computing a unique covariance matrix for each class. With ~15 or fewer training samples for each class, I believe QDA is producing inaccurate covariance matrices and wildly unrealistic opinions about decision boundary, hence the massive log loss score.\n",
    "  \n",
    "  \n",
    "It would be worth at this point to polish a bit the features, and see if by reducing their number we can improve the results of our classifiers.\n"
   ]
  },
  {
   "cell_type": "code",
   "execution_count": 6,
   "metadata": {},
   "outputs": [
    {
     "data": {
      "image/png": "[encoded data removed]",
      "text/plain": [
       "<Figure size 432x288 with 1 Axes>"
      ]
     },
     "metadata": {},
     "output_type": "display_data"
    }
   ],
   "source": [
    "\n",
    "sns.set_color_codes(\"muted\")\n",
    "sns.barplot(x='Accuracy', y='Classifier', data=log, color=\"b\")\n",
    "\n",
    "plt.xlabel('Accuracy %')\n",
    "plt.title('Classifier Accuracy')\n",
    "plt.show()\n"
   ]
  },
  {
   "cell_type": "markdown",
   "metadata": {},
   "source": [
    "The sklearn implementation of Random Forest allows to get information on which features are the most important in the classification; although not that useful here, it can usually be beneficial in the features reduction phase, to identify which descriptor are more likely to lead to loss of valuable information if dropped."
   ]
  },
  {
   "cell_type": "code",
   "execution_count": 7,
   "metadata": {},
   "outputs": [
    {
     "data": {
      "image/png": "[encoded data removed]",
      "text/plain": [
       "<Figure size 576x432 with 2 Axes>"
      ]
     },
     "metadata": {},
     "output_type": "display_data"
    }
   ],
   "source": [
    "#We extract the importances, their indices and standard deviations\n",
    "from sklearn.ensemble import ExtraTreesClassifier\n",
    "import matplotlib.cm as cm\n",
    "import matplotlib.pyplot as plt\n",
    "import matplotlib.gridspec as gridspec\n",
    "\n",
    "rf = RandomForestClassifier()\n",
    "#Run K-fold validation with RF\n",
    "#Again the classifier is trained on the k-1 sub-sets and then tested on the remaining k-th subset\n",
    "#and scores are calcualted\n",
    "rf_validation=[rf.fit(x_train[train], y_train[train]).score(x_train[test], y_train[test]).mean() \\\n",
    "               for train, test in kfold.split(x_train)]\n",
    "importances = rf.feature_importances_\n",
    "indices = np.argsort(importances)[::-1]\n",
    "imp_std = np.std([est.feature_importances_ for est in rf.estimators_], axis=0)\n",
    "\n",
    "#And we plot the first and last 10 features out of curiosity\n",
    "fig = plt.figure(figsize=(8, 6))\n",
    "gs1 = gridspec.GridSpec(1, 2)#, height_ratios=[1, 1]) \n",
    "ax1, ax2 = fig.add_subplot(gs1[0]), fig.add_subplot(gs1[1])\n",
    "ax1.margins(0.05), ax2.margins(0.05) \n",
    "ax1.bar(range(10), importances[indices][:10], \\\n",
    "       color=\"#6480e5\", yerr=imp_std[indices][:10], ecolor='#31427e', align=\"center\")\n",
    "ax2.bar(range(10), importances[indices][-10:], \\\n",
    "       color=\"#e56464\", yerr=imp_std[indices][-10:], ecolor='#7e3131', align=\"center\")\n",
    "ax1.set_xticks(range(10)), ax2.set_xticks(range(10))\n",
    "ax1.set_xticklabels(indices[:10]), ax2.set_xticklabels(indices[-10:])\n",
    "ax1.set_xlim([-1, 10]), ax2.set_xlim([-1, 10])\n",
    "ax1.set_ylim([0, 0.035]), ax2.set_ylim([0, 0.035])\n",
    "ax1.set_xlabel('Feature #'), ax2.set_xlabel('Feature #')\n",
    "ax1.set_ylabel('Random Forest Normalized Importance') \n",
    "ax2.set_ylabel('Random Forest Normalized Importance')\n",
    "ax1.set_title('First 10 Important Features'), ax2.set_title('Last 10 Important Features')\n",
    "gs1.tight_layout(fig)\n",
    "plt.show()"
   ]
  },
  {
   "cell_type": "markdown",
   "metadata": {},
   "source": [
    "A straightforward way to simplify the features is to remove possible correlations. We can intuitively assume that Naïve Bayes results will improve significantly, but it would be good to see if this choice will also improve the validation results for the other two classifiers.\n",
    "\n",
    "The dataset contains total of 192 descriptors, subdivided in three categories: margin, shape and texture. We can first check if within each one of these categories the features are correlated by calculating correlation scores between couples of features (in this case we will use the Pearson's correlation coefficient), and then if one of the categories has highly correlated results, we can build a correlation matrix among all the descriptors within such category."
   ]
  },
  {
   "cell_type": "code",
   "execution_count": 8,
   "metadata": {
    "scrolled": true
   },
   "outputs": [
    {
     "name": "stdout",
     "output_type": "stream",
     "text": [
      "Pearson's Correlation between neighbours\n",
      "==========================================\n",
      "Margin: 0.015 ± 0.311\n",
      "Shape: 0.989 ± 0.003\n",
      "Texture: -0.035 ± 0.184\n"
     ]
    },
    {
     "data": {
      "image/png": "[encoded data removed]",
      "text/plain": [
       "<Figure size 576x432 with 3 Axes>"
      ]
     },
     "metadata": {},
     "output_type": "display_data"
    }
   ],
   "source": [
    "def pearson(x,y):\n",
    "\t\tsumxy = 0\n",
    "\t\tfor i in range(len(x)):\n",
    "\t\t\tsumxy = sumxy + x[i]*y[i]\n",
    "\t\treturn (sumxy - len(x)*np.mean(x)*np.mean(y))\\\n",
    "\t\t\t/((len(x)-1)*np.std(x, ddof=1)*np.std(y, ddof=1))\n",
    "    \n",
    "    \n",
    "#First we find the sets of margin, shape and texture columns \n",
    "margin_cols = [col for col in train.columns if 'margin' in col]\n",
    "shape_cols = [col for col in train.columns if 'shape' in col] \n",
    "texture_cols = [col for col in train.columns if 'texture' in col] \n",
    "margin_pear, shape_pear, texture_pear = [],[],[]\n",
    "\n",
    "#Then we calculate the correlation coefficients for each couple of columns: we can either do this\n",
    "#between random columns of between consecutive columns, the difference won't matter much since we are\n",
    "#just exploring the data\n",
    "for i in range(len(margin_cols)-1):\n",
    "    margin_pear.append(pearson(train[margin_cols[i]],train[margin_cols[i+1]]))\n",
    "\t#margin_pear.append(pearson(traindf[margin_cols[randint(0,len(margin_cols)-1)]],\\\n",
    "        #traindf[margin_cols[randint(0,len(margin_cols)-1)]]))\n",
    "for i in range(len(shape_cols)-1):\n",
    "\tshape_pear.append(pearson(train[shape_cols[i]],train[shape_cols[i+1]]))\n",
    "\t#shape_pear.append(pearson(traindf[shape_cols[randint(0,len(shape_cols)-1)]],\\\n",
    "        #traindf[shape_cols[randint(0,len(shape_cols)-1)]]))\n",
    "for i in range(len(texture_cols)-1):\n",
    "\ttexture_pear.append(pearson(train[texture_cols[i]],train[texture_cols[i+1]]))\n",
    "\t#texture_pear.append(pearson(traindf[texture_cols[randint(0,len(texture_cols)-1)]],\\\n",
    "        #traindf[texture_cols[randint(0,len(texture_cols)-1)]]))\n",
    "\n",
    "#We calculate average and standard deviation for each cathergory \n",
    "#and we give it a position on the X axis of the graph\n",
    "margin_mean, margin_std = np.mean(margin_pear), np.std(margin_pear, ddof=1)\n",
    "margin_x=[0]*len(margin_pear)\n",
    "shape_mean, shape_std =\tnp.mean(shape_pear), np.std(shape_pear, ddof=1)\n",
    "shape_x=[1]*len(shape_pear)\t\n",
    "texture_mean, texture_std =\tnp.mean(texture_pear), np.std(texture_pear, ddof=1)\t\n",
    "texture_x=[2]*len(texture_pear)\n",
    "\n",
    "#We set up the graph\n",
    "fig = plt.figure(figsize=(8, 6))\n",
    "gs1 = gridspec.GridSpec(1, 2)#, height_ratios=[1, 1]) \n",
    "ax1, ax2 = fig.add_subplot(gs1[0]), fig.add_subplot(gs1[1])\n",
    "ax1.margins(0.05), ax2.margins(0.05) \n",
    "\n",
    "#We fill the first graph with a scatter plot on a single axis for each category and we add\n",
    "#mean and standard deviation, which we can also print to screen as a reference\n",
    "ax1.scatter(margin_x, margin_pear, color='blue', alpha=.3, s=100)\n",
    "ax1.errorbar([0],margin_mean, yerr=margin_std, color='white', alpha=1, fmt='o', mec='white', lw=2)\n",
    "ax1.scatter(shape_x, shape_pear, color='red', alpha=.3, s=100)\n",
    "ax1.errorbar([1],shape_mean, yerr=shape_std, color='white', alpha=1, fmt='o', mec='white', lw=2)\n",
    "ax1.scatter(texture_x, texture_pear, color='green', alpha=.3, s=100)\n",
    "ax1.errorbar([2],texture_mean, yerr=texture_std, color='white', alpha=1, fmt='o', mec='white', lw=2)\n",
    "ax1.set_ylim(-1.25, 1.25), ax1.set_xlim(-0.25, 2.25)\n",
    "ax1.set_xticks([0,1,2]), ax1.set_xticklabels(['margin','shape','texture'], rotation='vertical')\n",
    "ax1.set_xlabel('Category'), ax1.set_ylabel('Pearson\\'s Correlation')\n",
    "ax1.set_title('Neighbours Correlation')\n",
    "ax1.set_aspect(2.5)\n",
    "\n",
    "print(\"Pearson's Correlation between neighbours\\n==========================================\")\n",
    "print(\"Margin: \" + '{:1.3f}'.format(margin_mean) + u' \\u00B1 ' \\\n",
    "       + '{:1.3f}'.format(margin_std))\n",
    "print(\"Shape: \" + '{:1.3f}'.format(shape_mean) + u' \\u00B1 ' \\\n",
    "       + '{:1.3f}'.format(shape_std))\n",
    "print(\"Texture: \" + '{:1.3f}'.format(texture_mean) + u' \\u00B1 ' \\\n",
    "       + '{:1.3f}'.format(texture_std))\n",
    "\n",
    "#And now, we build a more detailed (and expensive!) correlation matrix, \n",
    "#but only for the shape category, which, as we will see, is highly correlated\n",
    "shape_mat=[]\n",
    "\n",
    "for i in range(train[shape_cols].shape[1]):\n",
    "    shape_mat.append([])\n",
    "    for j in range(train[shape_cols].shape[1]):\n",
    "        shape_mat[i].append(pearson(train[shape_cols[i]],train[shape_cols[j]]))\n",
    "\n",
    "cmap = cm.RdBu_r\n",
    "MS= ax2.imshow(shape_mat, interpolation='none', cmap=cmap, vmin=-1, vmax=1)\n",
    "ax2.set_xlabel('Shape Feature'), ax2.set_ylabel('Shape Feature')\n",
    "cbar = plt.colorbar(MS, ticks=np.arange(-1.0,1.1,0.2))\n",
    "cbar.set_label('Pearson\\'s Correlation')\n",
    "ax2.set_title('Shape Category Correlation Matrix')\n",
    "\n",
    "#And we have a look at the resulting graphs\n",
    "gs1.tight_layout(fig)\n",
    "plt.show()"
   ]
  },
  {
   "cell_type": "markdown",
   "metadata": {},
   "source": [
    "The Pearson's Coefficient goes from 1 for perfectly correlated arrays, to -1 for perfectly anti-correlated arrays. The midpoint 0 represents uncorrelated data. The results shown in the graph are very interesting. From the plot on the left it's possible to observe that couples of features categorised under \"texture\" (in green) are fairly uncorrelated, the mean is close to zero and the variance is low, with only one case with correlation higher then 0.5. Similarly, the \"margin\" features are centred in zero, but their variance is higher and we can observe a few points with about 0.8 of correlation.\n",
    "\n",
    "The most striking result is however observed with the \"shape\" category, where close couples of features are highly correlated. Taking random couples of descriptors doesn't improve the situation much, and this can be easily understood by looking in detail at the second graph, where the correlation matrix of all the features is shown. The descriptors are highly correlated with their closest neighbours, but also with other features periodically. This data forms a nice pattern, yes, but can lead to bad results if not properly taken care of. This also confirms our theory that the starting assumption of Naïve Bayes was wrong.\n",
    "\n",
    "Obviously correlation is not the only parameter one should look at when cleaning the data, but for this notebook we are going to focus only on this problem."
   ]
  },
  {
   "cell_type": "markdown",
   "metadata": {},
   "source": [
    "## Part B Principal Component Analysis & Compare the Perfermance Difference\n",
    "### Principal Component Analysis  \n",
    "Principal Component Analysis (or PCA in short) allows to transform sets of correlated variables, like our leaves features, into linearly uncorrelated, orthogonal, vectors (the principal components). The output sets are ordered so that the first principal component accounts for as much variability (and thus information) as possible from the input data, and it has the largest variance, while the following vectors have the highest possible variance allowed by their orthogonality.\n",
    "\n",
    "The number of sets in output can be lower than the number of input features, sometimes all information from our descriptors can be contained in a lower number of vectors, and for this reason PCA is often used as a dimensionality reduction method. It implementation in sklearn is based on the Singular Value Decomposition (or SVD), a method to extract the eigenvectors, the orthogonal vectors, by means of a factorisation of the matrix of the input features.\n",
    "\n",
    "Although in principle we could apply PCA it only to a subset of the training data, given that some of the categories don't have much correlation among their members, we will apply here to the whole data set, to make sure that all features are orthogonal."
   ]
  },
  {
   "cell_type": "code",
   "execution_count": 9,
   "metadata": {},
   "outputs": [
    {
     "name": "stdout",
     "output_type": "stream",
     "text": [
      "Number of descriptors before PCA: 192\n",
      "Number of descriptors after PCA: 100\n"
     ]
    }
   ],
   "source": [
    "from sklearn.decomposition import PCA\n",
    "\n",
    "pca = PCA(n_components = 100, svd_solver = 'full')\n",
    "#Then we fit pca on our training set and we apply to the same entire set\n",
    "x_train_pca=pca.fit_transform(x_train)\n",
    "print(\"Number of descriptors before PCA: \" + '{:1.0f}'.format(x_train.shape[1]))\n",
    "print(\"Number of descriptors after PCA: \" + '{:1.0f}'.format(x_train_pca.shape[1]))\n"
   ]
  },
  {
   "cell_type": "code",
   "execution_count": 10,
   "metadata": {},
   "outputs": [
    {
     "name": "stdout",
     "output_type": "stream",
     "text": [
      "0.9813056160162076\n"
     ]
    }
   ],
   "source": [
    "pca.explained_variance_ratio_\n",
    "sum =0\n",
    "for int in pca.explained_variance_ratio_:\n",
    "    sum = sum +int\n",
    "    \n",
    "print (sum)"
   ]
  },
  {
   "cell_type": "markdown",
   "metadata": {},
   "source": [
    "As we can see, PCA only reduced the features by one element. This doesn't mean, however, that the results won't be improved. We can now apply again our classifiers to this new set and see if anything has changed.  \n",
    "\n",
    "And also, The percentage of variance for all features is 0.9813056160162076, meaning that almost all information is retained."
   ]
  },
  {
   "cell_type": "code",
   "execution_count": 11,
   "metadata": {},
   "outputs": [
    {
     "name": "stdout",
     "output_type": "stream",
     "text": [
      "==============================\n",
      "KNeighborsClassifier\n",
      "****Results****\n",
      "Accuracy: 96.2626%\n",
      "==============================\n",
      "GaussianNB\n",
      "****Results****\n",
      "Accuracy: 93.3333%\n",
      "==============================\n",
      "DecisionTreeClassifier\n",
      "****Results****\n",
      "Accuracy: 59.8990%\n",
      "==============================\n",
      "RandomForestClassifier\n",
      "****Results****\n",
      "Accuracy: 76.0606%\n",
      "==============================\n",
      "AdaBoostClassifier\n",
      "****Results****\n",
      "Accuracy: 2.7273%\n",
      "==============================\n",
      "GradientBoostingClassifier\n",
      "****Results****\n",
      "Accuracy: 44.3434%\n",
      "==============================\n",
      "LinearDiscriminantAnalysis\n",
      "****Results****\n",
      "Accuracy: 98.0808%\n",
      "==============================\n",
      "QuadraticDiscriminantAnalysis\n",
      "****Results****\n",
      "Accuracy: 5.8586%\n",
      "==============================\n"
     ]
    }
   ],
   "source": [
    "for clf in classifiers:\n",
    "    clf_validation = [clf.fit(x_train_pca[train], y_train[train]).score(x_train_pca[test], y_train[test]).mean() \\\n",
    "           for train, test in kfold.split(x_train)]\n",
    "    name = clf.__class__.__name__\n",
    "    \n",
    "    print(\"=\"*30)\n",
    "    print(name)\n",
    "    \n",
    "    print('****Results****')\n",
    "    acc = np.mean(clf_validation)\n",
    "    print(\"Accuracy: {:.4%}\".format(acc))\n",
    "    \n",
    "    \n",
    "    log_entry = pd.DataFrame([[name, acc*100]], columns=log_cols)\n",
    "    log = log.append(log_entry)\n",
    "    \n",
    "print(\"=\"*30)"
   ]
  },
  {
   "cell_type": "markdown",
   "metadata": {},
   "source": [
    "As we expected, most of the classifiers' accuracy is lower compared with the first dataset since some information lost in this dimensionality reduction process, but the validation results improve significantly for the Naïve Bayes classifier, since now the features independence assumption is correct."
   ]
  },
  {
   "cell_type": "code",
   "execution_count": 12,
   "metadata": {},
   "outputs": [
    {
     "data": {
      "image/png": "[encoded data removed]",
      "text/plain": [
       "<Figure size 432x288 with 1 Axes>"
      ]
     },
     "metadata": {},
     "output_type": "display_data"
    }
   ],
   "source": [
    "sns.set_color_codes(\"muted\")\n",
    "sns.barplot(x='Accuracy', y='Classifier', data=log, color=\"b\")\n",
    "\n",
    "plt.xlabel('Accuracy %')\n",
    "plt.title('Classifier Accuracy')\n",
    "plt.show()\n"
   ]
  },
  {
   "cell_type": "code",
   "execution_count": 13,
   "metadata": {},
   "outputs": [
    {
     "name": "stdout",
     "output_type": "stream",
     "text": [
      "Explained variation per principal component: [0.14980004 0.101889   0.08671815]\n"
     ]
    }
   ],
   "source": [
    "df = pd.read_csv(\"train.csv\")\n",
    "pca = PCA(n_components=3)\n",
    "\n",
    "# Obtain list of features\n",
    "features = list(df)\n",
    "del(features[:2]) # Delete id and species from features\n",
    "\n",
    "# Apply PCA to our data\n",
    "pca_result = pca.fit_transform(df[features].values)\n",
    "\n",
    "# Define dataframe containing low-dimension representation of original data\n",
    "pca_df = pd.DataFrame()\n",
    "pca_df['species'] = df['species']\n",
    "pca_df['pca-one'] = pca_result[:,0]\n",
    "pca_df['pca-two'] = pca_result[:,1] \n",
    "\n",
    "# How much variance does this new representation retain from the original data?\n",
    "print('Explained variation per principal component: {}'.format(pca.explained_variance_ratio_))"
   ]
  },
  {
   "cell_type": "code",
   "execution_count": 14,
   "metadata": {},
   "outputs": [
    {
     "data": {
      "image/png": "[encoded data removed]",
      "text/plain": [
       "<Figure size 576x432 with 2 Axes>"
      ]
     },
     "metadata": {},
     "output_type": "display_data"
    }
   ],
   "source": [
    "#Again, we can check if anything changed in the features importance of our Random Forest classifier\n",
    "importances = rf.feature_importances_\n",
    "indices = np.argsort(importances)[::-1]\n",
    "imp_std = np.std([est.feature_importances_ for est in rf.estimators_], axis=0)\n",
    "\n",
    "fig = plt.figure(figsize=(8, 6))\n",
    "gs1 = gridspec.GridSpec(1, 2)#, height_ratios=[1, 1]) \n",
    "ax1, ax2 = fig.add_subplot(gs1[0]), fig.add_subplot(gs1[1])\n",
    "ax1.margins(0.05), ax2.margins(0.05) \n",
    "ax1.bar(range(10), importances[indices][:10], \\\n",
    "       color=\"#6480e5\", yerr=imp_std[indices][:10], ecolor='#31427e', align=\"center\")\n",
    "ax2.bar(range(10), importances[indices][-10:], \\\n",
    "       color=\"#e56464\", yerr=imp_std[indices][-10:], ecolor='#7e3131', align=\"center\")\n",
    "ax1.set_xticks(range(10)), ax2.set_xticks(range(10))\n",
    "ax1.set_xticklabels(indices[:10]) ,ax2.set_xticklabels(indices[-10:])\n",
    "ax1.set_xlim([-1, 10]), ax2.set_xlim([-1, 10])\n",
    "ax1.set_ylim([0, 0.035]), ax2.set_ylim([0, 0.035])\n",
    "ax1.set_xlabel('Feature #'), ax2.set_xlabel('Feature #')\n",
    "ax1.set_ylabel('Random Forest Normalized Importance'), ax2.set_ylabel('Random Forest Normalized Importance')\n",
    "ax1.set_title('First 10 Important Features (after PCA)'), ax2.set_title('Last 10 Important Features (after PCA)')\n",
    "gs1.tight_layout(fig)\n",
    "#plt.show()"
   ]
  },
  {
   "cell_type": "markdown",
   "metadata": {},
   "source": [
    "However, looking at the feature importances of the Random Forest classifier we can see how the information has been restructured and divided among the features. The 10 first important features (on the left) are taken among the first in the first vectors of the PCA, the ones with highest variance, while the least important features for the classifier are mostly among the last vectors of our modified dataset, where the remaining information has been stored. Dropping them would lead to a modest loss of information. Moreover, the actual value of the importance is increased for the first ten vectors and equally low for the last ten.\n",
    "It is interesting to note how this rearrangement of the information through PCA and the elimination of just one descriptor doesn't significantly affect the results for the Random Forest classifier."
   ]
  },
  {
   "cell_type": "markdown",
   "metadata": {},
   "source": [
    "## Part C Feed Forward Neural Network"
   ]
  },
  {
   "cell_type": "markdown",
   "metadata": {},
   "source": [
    "Now, let us proceed by applying Feed Forward Neural Network to this dataset. A Feed Forward Neural Network is a Neural Network that is built by layers. Each layer consists of a set of neurons. Particularity of these networks is that units within the same layer do not interact between each other. The following figure illustrates the architecture of these networks:  \n",
    "![FFNN](ffnn.png)  \n",
    "The input layer is where we introduce the training data. In this first attempt, we will use the feature vectors. Thus, the input layer has 192 units. In Classification problems, the output layer has as many units as classes we have in our problem (in our case, we have 99). In between, we have the hidden layers (the number of hidden layers might vary from task to task).\n",
    "\n",
    "In general, at each layer these networks compute linear combinations of the output vector of the previous layer and subsequently apply non-linearities (also known as activation functions). In our case, we will be using the ReLu activation function, which has been proven in the literature to be robust to the vanishing gradient problem and has a faster convergence than other standard activation functions (e.g. sigmoid, tanh).\n",
    "\n"
   ]
  },
  {
   "cell_type": "markdown",
   "metadata": {},
   "source": [
    "### Preparing the data"
   ]
  },
  {
   "cell_type": "code",
   "execution_count": 1,
   "metadata": {},
   "outputs": [
    {
     "name": "stderr",
     "output_type": "stream",
     "text": [
      "/Users/linke/anaconda3/lib/python3.6/site-packages/h5py/__init__.py:36: FutureWarning: Conversion of the second argument of issubdtype from `float` to `np.floating` is deprecated. In future, it will be treated as `np.float64 == np.dtype(float).type`.\n",
      "  from ._conv import register_converters as _register_converters\n",
      "/Users/linke/anaconda3/lib/python3.6/site-packages/ipykernel_launcher.py:20: FutureWarning: Method .as_matrix will be removed in a future version. Use .values instead.\n",
      "/Users/linke/anaconda3/lib/python3.6/site-packages/ipykernel_launcher.py:32: FutureWarning: Method .as_matrix will be removed in a future version. Use .values instead.\n"
     ]
    }
   ],
   "source": [
    "# Import libraries\n",
    "import pandas as pd\n",
    "import numpy as np\n",
    "import tensorflow as tf\n",
    "\n",
    "# Parameters\n",
    "learning_rate = 0.001\n",
    "training_epochs = 2000\n",
    "batch_size = 10\n",
    "display_step = 100\n",
    "\n",
    "# Network Parameters\n",
    "n_features = 192\n",
    "n_classes = 99\n",
    "neurons_layers = [n_features, 256, n_classes] # Number of features in input, hidden and output layers\n",
    "\n",
    "# Load Train data\n",
    "train_data = {}\n",
    "df = pd.read_csv(\"train.csv\") # Load training set\n",
    "tmp = df.as_matrix()\n",
    "train_data['samples'] = tmp[:, 2:] # Obtain all the feature vectors (without ids and species)\n",
    "train_data['labels'] = tmp[:, 1] # Obtain labels (i.e. species)\n",
    "N_train = len(train_data['samples']) # Number of training samples\n",
    "\n",
    "# Obtain list of features\n",
    "features = list(df)\n",
    "del(features[:2]) # Delete id and species from features\n",
    "\n",
    "# Load Test data\n",
    "test_data = {}\n",
    "df = pd.read_csv(\"test.csv\")\n",
    "tmp = df.as_matrix()\n",
    "test_data['samples'] = tmp[:, 1:]\n",
    "test_ids = df.pop('id')"
   ]
  },
  {
   "cell_type": "markdown",
   "metadata": {},
   "source": [
    "### One-Hot Encoding"
   ]
  },
  {
   "cell_type": "code",
   "execution_count": 2,
   "metadata": {},
   "outputs": [],
   "source": [
    "# One hot encoding map something\n",
    "enc = np.eye(n_classes)\n",
    "sparse2dense = {i: enc[i] for i in range(n_classes)}\n",
    "\n",
    "# Map class names to one-hot representation\n",
    "class_names = np.unique(train_data['labels'])\n",
    "class_encodings = {}\n",
    "for i in range(n_classes):\n",
    "    class_encodings[class_names[i]] = sparse2dense[i]"
   ]
  },
  {
   "cell_type": "markdown",
   "metadata": {},
   "source": [
    "### Model parameters initialisation"
   ]
  },
  {
   "cell_type": "code",
   "execution_count": 3,
   "metadata": {},
   "outputs": [],
   "source": [
    "# tf Graph input\n",
    "x = tf.placeholder(tf.float32, [None, n_features])\n",
    "y = tf.placeholder(tf.float32, [None, n_classes])\n",
    "\n",
    "# Model parameters (weights, biases)\n",
    "weights = [\n",
    "    tf.Variable(tf.random_normal([neurons_layers[k], neurons_layers[k + 1]])) for k in range(len(neurons_layers)-1)\n",
    "]\n",
    "\n",
    "biases = [\n",
    "    tf.Variable(tf.random_normal([neurons_layers[k+1]])) for k in range(len(neurons_layers)-1)\n",
    "]"
   ]
  },
  {
   "cell_type": "markdown",
   "metadata": {},
   "source": [
    "### Multilayer Perceptron"
   ]
  },
  {
   "cell_type": "code",
   "execution_count": 4,
   "metadata": {},
   "outputs": [],
   "source": [
    "# Function implementing a fully connected feed forward NN, with relu activations\n",
    "def multilayer_perceptron(x, weights, biases):\n",
    "    \n",
    "    # Compute number of hidden layers\n",
    "    n_hidden = len(weights)-1\n",
    "    \n",
    "    # Input layer to hidden layer\n",
    "    out = tf.add(tf.matmul(x, weights[0]), biases[0])\n",
    "    \n",
    "    # Check that there are hidden layers\n",
    "    if n_hidden > 0:\n",
    "    \n",
    "        # Iterate over all hidden layers\n",
    "        for k in range(1, n_hidden+1):\n",
    "            out = tf.nn.relu(out) # Apply activation fct on previous layer output\n",
    "            out = tf.add(tf.matmul(out, weights[k]), biases[k]) # linear combination\n",
    "               \n",
    "    return out\n"
   ]
  },
  {
   "cell_type": "markdown",
   "metadata": {},
   "source": [
    "### Cost and Optimiser"
   ]
  },
  {
   "cell_type": "code",
   "execution_count": 5,
   "metadata": {},
   "outputs": [
    {
     "name": "stdout",
     "output_type": "stream",
     "text": [
      "WARNING:tensorflow:From <ipython-input-5-2842ab9b22c3>:6: softmax_cross_entropy_with_logits (from tensorflow.python.ops.nn_ops) is deprecated and will be removed in a future version.\n",
      "Instructions for updating:\n",
      "\n",
      "Future major versions of TensorFlow will allow gradients to flow\n",
      "into the labels input on backprop by default.\n",
      "\n",
      "See `tf.nn.softmax_cross_entropy_with_logits_v2`.\n",
      "\n"
     ]
    }
   ],
   "source": [
    "# Construct model\n",
    "y_pred = multilayer_perceptron(x, weights, biases)\n",
    "p_pred = tf.nn.softmax(y_pred)\n",
    "\n",
    "# Define cross entropy loss\n",
    "cost = tf.nn.softmax_cross_entropy_with_logits(logits=y_pred, labels=y)\n",
    "cost = tf.reduce_mean(cost)*batch_size\n",
    "\n",
    "# Define optimizer\n",
    "optimizer = tf.train.AdamOptimizer(learning_rate=learning_rate).minimize(cost)\n",
    "\n",
    "# Evaluation of the model on a set\n",
    "correct_prediction = tf.equal(tf.argmax(y_pred, 1), tf.argmax(y, 1))\n",
    "accuracy = tf.reduce_mean(tf.cast(correct_prediction, \"float\"))"
   ]
  },
  {
   "cell_type": "markdown",
   "metadata": {},
   "source": [
    "### Building our first model"
   ]
  },
  {
   "cell_type": "code",
   "execution_count": 6,
   "metadata": {},
   "outputs": [
    {
     "name": "stderr",
     "output_type": "stream",
     "text": [
      "/Users/linke/anaconda3/lib/python3.6/site-packages/ipykernel_launcher.py:2: FutureWarning: Method .as_matrix will be removed in a future version. Use .values instead.\n",
      "  \n"
     ]
    }
   ],
   "source": [
    "# Create Validation and Training sets\n",
    "tmp = pd.read_csv(\"train.csv\").as_matrix()\n",
    "\n",
    "idx = np.random.choice(N_train, N_train, replace=False)\n",
    "N_train2 = int (0.75 * N_train)\n",
    "train_data['samples'] = tmp[idx[:N_train2], 2:]\n",
    "train_data['labels'] = np.array([class_encodings[t] for t in tmp[idx[:N_train2], 1]])\n",
    "\n",
    "val_data = {}\n",
    "val_data['samples'] = tmp[idx[N_train2:], 2:]\n",
    "val_data['labels'] = np.array([class_encodings[t] for t in tmp[idx[N_train2:], 1]])"
   ]
  },
  {
   "cell_type": "markdown",
   "metadata": {},
   "source": [
    "### Check the accurancy"
   ]
  },
  {
   "cell_type": "code",
   "execution_count": null,
   "metadata": {},
   "outputs": [
    {
     "name": "stdout",
     "output_type": "stream",
     "text": [
      "Epoch: 0001 cost= 236.245000891\n",
      "Accuracy on Validation nset: 0.016129032\n",
      "Epoch: 0101 cost= 0.075863953\n",
      "Accuracy on Validation nset: 0.8951613\n",
      "Epoch: 0201 cost= 0.001859059\n",
      "Accuracy on Validation nset: 0.9354839\n",
      "Epoch: 0301 cost= 0.000048346\n",
      "Accuracy on Validation nset: 0.9395161\n",
      "Epoch: 0401 cost= 0.000001252\n",
      "Accuracy on Validation nset: 0.94758064\n",
      "Epoch: 0501 cost= 0.000000285\n",
      "Accuracy on Validation nset: 0.94758064\n",
      "Epoch: 0601 cost= 0.000003805\n",
      "Accuracy on Validation nset: 0.94758064\n",
      "Epoch: 0701 cost= 0.000000182\n",
      "Accuracy on Validation nset: 0.95564514\n",
      "Epoch: 0801 cost= 0.084191272\n",
      "Accuracy on Validation nset: 0.9032258\n",
      "Epoch: 0901 cost= 0.000000456\n",
      "Accuracy on Validation nset: 0.9354839\n",
      "Epoch: 1001 cost= 0.000000163\n",
      "Accuracy on Validation nset: 0.9516129\n"
     ]
    }
   ],
   "source": [
    "# Arrays containing cost for each epoch\n",
    "cost_train_original = np.zeros([training_epochs,1])\n",
    "cost_val_original = np.zeros([training_epochs,1])\n",
    "accuracy_original = np.zeros([training_epochs,1])\n",
    "# Initializing the variables\n",
    "init = tf.global_variables_initializer()\n",
    "\n",
    "\n",
    "# Launch the graph\n",
    "with tf.Session() as sess:\n",
    "    sess.run(init)\n",
    "\n",
    "    # Training cycle\n",
    "    for epoch in range(training_epochs):\n",
    "        avg_cost = 0.\n",
    "        total_batch = int(N_train2/batch_size)\n",
    "        # Loop over all batches\n",
    "        for i in range(total_batch):\n",
    "            idx = range(i*batch_size, (i+1)*batch_size)\n",
    "            # Train samples\n",
    "            batch_x = train_data['samples'][idx]\n",
    "            # Train labels\n",
    "            #print(idx)\n",
    "            batch_y = train_data['labels'][idx]\n",
    "\n",
    "            ## Run optimization op (backprop) and cost op (to get loss value)\n",
    "            _, c = sess.run([optimizer, cost], feed_dict={x: batch_x,\n",
    "                                                          y: batch_y})\n",
    "            # Compute average loss\n",
    "            avg_cost += c / total_batch\n",
    "            \n",
    "        # Display logs per epoch step\n",
    "        if epoch % display_step == 0:\n",
    "            print(\"Epoch:\", '%04d' % (epoch+1), \"cost=\", \\\n",
    "                \"{:.9f}\".format(avg_cost))\n",
    "            print(\"Accuracy on Validation nset:\", accuracy.eval({x: val_data['samples']\\\n",
    "                                                                , y: val_data['labels']}))\n",
    "        cost_train_original[epoch] = avg_cost\n",
    "        cost_val_original[epoch] = cost.eval({x: val_data['samples'], y: val_data['labels']})\n",
    "        accuracy_original[epoch] = accuracy.eval({x: val_data['samples'], y: val_data['labels']})\n",
    "        \n",
    "    print(\"Optimization Finished!\")\n",
    "\n",
    "    \n",
    "    \n",
    "    predictions = sess.run([p_pred], {x: test_data['samples']})"
   ]
  },
  {
   "cell_type": "markdown",
   "metadata": {},
   "source": [
    "As the result shows, our netwrok become plateaus between 500 and 600 epochs. The accuracy rate is also maintained at around 0.947."
   ]
  },
  {
   "cell_type": "code",
   "execution_count": null,
   "metadata": {},
   "outputs": [],
   "source": []
  }
 ],
 "metadata": {
  "kernelspec": {
   "display_name": "Python 3",
   "language": "python",
   "name": "python3"
  },
  "language_info": {
   "codemirror_mode": {
    "name": "ipython",
    "version": 3
   },
   "file_extension": ".py",
   "mimetype": "text/x-python",
   "name": "python",
   "nbconvert_exporter": "python",
   "pygments_lexer": "ipython3",
   "version": "3.6.5"
  }
 },
 "nbformat": 4,
 "nbformat_minor": 2
}
